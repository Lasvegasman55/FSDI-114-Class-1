{
 "cells": [
  {
   "cell_type": "markdown",
   "id": "4ecc1aee-9b1a-4c58-9ed6-34ffe0af79d4",
   "metadata": {},
   "source": [
    "# Stacks and Queuas\n",
    "*Stack*: A stack is an ordered collection where items are added and removed from the _top_.\n",
    "*Queue*: A queue is and ordered collection where items are added at the back and removed from the front."
   ]
  },
  {
   "cell_type": "code",
   "execution_count": 1,
   "id": "4f33b843-05e7-4fd5-b548-9c2095178c0c",
   "metadata": {},
   "outputs": [
    {
     "ename": "SyntaxError",
     "evalue": "unmatched ')' (973978527.py, line 7)",
     "output_type": "error",
     "traceback": [
      "  \u001b[36mCell\u001b[39m\u001b[36m \u001b[39m\u001b[32mIn[1]\u001b[39m\u001b[32m, line 7\u001b[39m\n\u001b[31m    \u001b[39m\u001b[31mdef push_self, value):\u001b[39m\n                        ^\n\u001b[31mSyntaxError\u001b[39m\u001b[31m:\u001b[39m unmatched ')'\n"
     ]
    }
   ],
   "source": [
    "# Simplified implementation of Stack (relying on built-ins)\n",
    "\n",
    "class Stack:\n",
    "    def __init__(self):\n",
    "        self.items = []\n",
    "\n",
    "    def push(self, value):\n",
    "        self.items.append(value)\n",
    "\n",
    "    def pop(self):\n",
    "        return self.items.pop()\n",
    "\n",
    "    # Nice to have methods\n",
    "    def peek(self):\n",
    "        return.self.items[len(self.items)-1]\n",
    "\n",
    "    def size(self):\n",
    "        return len(self.items)\n",
    "\n",
    "    def is_empty(self):\n",
    "        return self.items == []\n",
    "        \n",
    "\n"
   ]
  },
  {
   "cell_type": "code",
   "execution_count": 2,
   "id": "f2700c66-1c73-46b0-b3b8-4b98dc407d0b",
   "metadata": {},
   "outputs": [
    {
     "ename": "IndentationError",
     "evalue": "expected an indented block after function definition on line 37 (3345108119.py, line 38)",
     "output_type": "error",
     "traceback": [
      "  \u001b[36mCell\u001b[39m\u001b[36m \u001b[39m\u001b[32mIn[2]\u001b[39m\u001b[32m, line 38\u001b[39m\n\u001b[31m    \u001b[39m\u001b[31mpass\u001b[39m\n    ^\n\u001b[31mIndentationError\u001b[39m\u001b[31m:\u001b[39m expected an indented block after function definition on line 37\n"
     ]
    }
   ],
   "source": [
    "# From scratch implementation of Stack\n",
    "\n",
    "class StackII:\n",
    "    class __Node:\n",
    "        def __init__(self, datum):\n",
    "            self.below = None\n",
    "            self.datum = datum\n",
    "\n",
    "        def __init__(self):\n",
    "            self.top = None\n",
    "\n",
    "        def push(self, datum):\n",
    "            # No matter what happens, we'll be adding a new element to our stack, so:\n",
    "            new_node = self._Node(datum)\n",
    "            # Determine the state of the stack first:\n",
    "            if not self.top:\n",
    "                self.top = new_node\n",
    "            else:\n",
    "                new_node.below = self.top\n",
    "                self.top = new_node\n",
    "\n",
    "            def pop(self):\n",
    "                # Check the state of the stack first:\n",
    "                if self.top:\n",
    "                    datum = self.top.daturm\n",
    "                    self.top = self.top.below\n",
    "                    return datum\n",
    "                raise IndexError(\"Stack is empty\")\n",
    "\n",
    "            # Nice to have methods:\n",
    "            def peek(self):\n",
    "                pass\n",
    "\n",
    "            def size(self):\n",
    "                pass\n",
    "\n",
    "            def is_empty(self):\n",
    "                pass\n",
    "\n",
    "                "
   ]
  },
  {
   "cell_type": "markdown",
   "id": "1af43a70-9a1d-4073-9666-3f35e08ee777",
   "metadata": {},
   "source": [
    "# Problem 1\n",
    "\n",
    "Given a string, return it in inverse order.\n",
    "\n",
    "## Criteria\n",
    "Your function 'invert._str' must use one of the Stack classes about (bonus points if it receives it as a parameter) and leverage the Stack to invert the string.\n",
    "\n",
    "Examples:\n",
    "rafael thru leafar\n",
    "rats thru star\n",
    "hello thru olleh"
   ]
  },
  {
   "cell_type": "code",
   "execution_count": 3,
   "id": "f24509de-0b53-4e69-bec5-0f623d5fc83d",
   "metadata": {},
   "outputs": [
    {
     "ename": "NameError",
     "evalue": "name 'StackII' is not defined",
     "output_type": "error",
     "traceback": [
      "\u001b[31m---------------------------------------------------------------------------\u001b[39m",
      "\u001b[31mNameError\u001b[39m                                 Traceback (most recent call last)",
      "\u001b[36mCell\u001b[39m\u001b[36m \u001b[39m\u001b[32mIn[3]\u001b[39m\u001b[32m, line 1\u001b[39m\n\u001b[32m----> \u001b[39m\u001b[32m1\u001b[39m \u001b[38;5;28;01mdef\u001b[39;00m\u001b[38;5;250m \u001b[39m\u001b[34minvert_str\u001b[39m(input_string, stack_class=\u001b[43mStackII\u001b[49m):\n\u001b[32m      2\u001b[39m     \u001b[38;5;66;03m# Create a new stack instance\u001b[39;00m\n\u001b[32m      3\u001b[39m     stack = stack_class()\n\u001b[32m      5\u001b[39m     \u001b[38;5;66;03m# Push each character onto the stack\u001b[39;00m\n",
      "\u001b[31mNameError\u001b[39m: name 'StackII' is not defined"
     ]
    }
   ],
   "source": [
    "def invert_str(input_string, stack_class=StackII):\n",
    "    # Create a new stack instance\n",
    "    stack = stack_class()\n",
    "    \n",
    "    # Push each character onto the stack\n",
    "    for char in input_string:\n",
    "        stack.push(char)\n",
    "    \n",
    "    # Pop characters from the stack to form the inverted string\n",
    "    inverted = \"\"\n",
    "    \n",
    "    # complete the pop method first\n",
    "    # and removes it from the stack\n",
    "    while stack.top:\n",
    "        inverted += stack.pop()\n",
    "    \n",
    "    return inverted"
   ]
  },
  {
   "cell_type": "code",
   "execution_count": 4,
   "id": "4b946ddf-26e1-4113-95ba-f844b4931268",
   "metadata": {},
   "outputs": [
    {
     "ename": "NameError",
     "evalue": "name 'StackII' is not defined",
     "output_type": "error",
     "traceback": [
      "\u001b[31m---------------------------------------------------------------------------\u001b[39m",
      "\u001b[31mNameError\u001b[39m                                 Traceback (most recent call last)",
      "\u001b[36mCell\u001b[39m\u001b[36m \u001b[39m\u001b[32mIn[4]\u001b[39m\u001b[32m, line 1\u001b[39m\n\u001b[32m----> \u001b[39m\u001b[32m1\u001b[39m \u001b[38;5;28;01mdef\u001b[39;00m\u001b[38;5;250m \u001b[39m\u001b[34minvert_str\u001b[39m(input_string, stack_class=\u001b[43mStackII\u001b[49m):\n\u001b[32m      2\u001b[39m     \u001b[38;5;66;03m# Create a new stack instance\u001b[39;00m\n\u001b[32m      3\u001b[39m     stack = stack_class()\n\u001b[32m      5\u001b[39m     \u001b[38;5;66;03m# Push each character onto the stack\u001b[39;00m\n",
      "\u001b[31mNameError\u001b[39m: name 'StackII' is not defined"
     ]
    }
   ],
   "source": [
    "def invert_str(input_string, stack_class=StackII):\n",
    "  \n",
    "    stack = stack_class()\n",
    "    \n",
    "    \n",
    "    for char in input_string:\n",
    "        stack.push(char)\n",
    "    \n",
    " \n",
    "    inverted = \"\"\n",
    "    \n",
    "\n",
    "    while stack.top:\n",
    "        inverted += stack.pop()\n",
    "    \n",
    "    return inverted\n",
    "\n",
    "\n",
    "class StackII:\n",
    "    class _Node:\n",
    "        def __init__(self, datum):\n",
    "            self.below = None\n",
    "            self.datum = datum\n",
    "            \n",
    "    def __init__(self):\n",
    "        self.top = None\n",
    "        \n",
    "    def push(self, datum):\n",
    "        # No matter what happens, we'll be adding a new element to our stack, so:\n",
    "        new_node = self._Node(datum)\n",
    "        # Determine the state of the stack first:\n",
    "        if not self.top:\n",
    "            self.top = new_node\n",
    "        else:\n",
    "            # Make the new node point to the current top\n",
    "            new_node.below = self.top\n",
    "            # Update the top to be the new node\n",
    "            self.top = new_node\n",
    "    \n",
    "    def pop(self):\n",
    "        # Check if stack is empty\n",
    "        if not self.top:\n",
    "            raise IndexError(\"Pop from an empty stack\")\n",
    "        \n",
    "       e\n",
    "        datum = self.top.datum\n",
    "        \n",
    "       \n",
    "        self.top = self.top.below\n",
    "        \n",
    "      \n",
    "        return datumS"
   ]
  },
  {
   "cell_type": "code",
   "execution_count": 5,
   "id": "4003ab39-029f-4bc5-b493-a5a0911d480e",
   "metadata": {},
   "outputs": [],
   "source": [
    "# Simplified implementation of Queue (relying on built-ins)\n",
    "# Homework assignment: Similar to how we produced StackII, build QueueII, an implementation that does not rely on built-ins.\n",
    "class Queue:\n",
    "    def __init__(self):\n",
    "        self.items = []\n",
    "\n",
    "    def enqueue(self, value):\n",
    "        self.items.insert(0, value)\n",
    "\n",
    "    def dequeue(self):\n",
    "        return self.items.pop()\n",
    "\n",
    "    # Nice to have methods:\n",
    "    def peek(self):\n",
    "        return lens(self.items)\n",
    "\n",
    "    def is_empty(self):\n",
    "        return self.items == []"
   ]
  },
  {
   "cell_type": "code",
   "execution_count": null,
   "id": "c52c1b13-327a-43d9-a719-03dc8d450514",
   "metadata": {},
   "outputs": [],
   "source": [
    "# Research what is a Logaritm and how does it work?\n",
    "# Research what is the factorial of a number and how does that work?"
   ]
  }
 ],
 "metadata": {
  "kernelspec": {
   "display_name": "Python 3 (ipykernel)",
   "language": "python",
   "name": "python3"
  },
  "language_info": {
   "codemirror_mode": {
    "name": "ipython",
    "version": 3
   },
   "file_extension": ".py",
   "mimetype": "text/x-python",
   "name": "python",
   "nbconvert_exporter": "python",
   "pygments_lexer": "ipython3",
   "version": "3.12.3"
  }
 },
 "nbformat": 4,
 "nbformat_minor": 5
}
