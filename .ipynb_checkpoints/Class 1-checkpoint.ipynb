{
 "cells": [
  {
   "cell_type": "markdown",
   "id": "d8a8e8c8-18f2-46f7-9070-104c11d74b0f",
   "metadata": {},
   "source": [
    "# Problem 1\n",
    "## Anagram check\n",
    "Given two strings, determine if these are anagrams of each other, considering the following criteria:\n",
    "\n",
    "### Criteria\n",
    "Two strings are anagrams of each other if all the criteria below are met:\n",
    "1. They must use the same letters the same amount of times.\n",
    "2. They must be of equal length in terms of letters.\n",
    "\n",
    "Examples:\n",
    "heart and earth\n",
    "cars and scar\n",
    "rats and star\n",
    "\n",
    "aaab and baaa"
   ]
  },
  {
   "cell_type": "code",
   "execution_count": 3,
   "id": "e964b01f-1228-4f17-8402-1db9c13da287",
   "metadata": {},
   "outputs": [],
   "source": [
    "# Poor solutions (resist the urge to come up with a \"clever\" solution\n",
    "def anagram_check(string1, string2):\n",
    "    return sorted(string1) == sorted(string2)"
   ]
  },
  {
   "cell_type": "code",
   "execution_count": 4,
   "id": "829eb126-7672-4147-b5a7-6adf5524a6e8",
   "metadata": {},
   "outputs": [
    {
     "data": {
      "text/plain": [
       "False"
      ]
     },
     "execution_count": 4,
     "metadata": {},
     "output_type": "execute_result"
    }
   ],
   "source": [
    "anagram_check(\"I am Lord Voldemort\", \"Tome Marvolo Riddle\")"
   ]
  },
  {
   "cell_type": "code",
   "execution_count": 1,
   "id": "1e732db3-2a48-42df-98a2-d8cd2294ae58",
   "metadata": {},
   "outputs": [],
   "source": [
    "# Design our solution (assembly)\n",
    "\n",
    "# Define function \"anagram_check\" with parameters strl and str2\"\n",
    "#   str1 = str1 without spaces in lower case\n",
    "#   str2 = str1 without spaces in lower case\n",
    "#   if str1 is not of equal length to str2:\n",
    "#        return False\n",
    "#   for each \"number\" in the range from 0 to the length of strl:\n",
    "#        if the character of posstion \"number\" in strl is not in dic1:\n",
    "#            add that character as a key to dict1 and set it's value in 1\n",
    "#            otherwise:\n",
    "#                add a 1 to the value assosiated with that character\n",
    "#        if the character of posstion \"number\" in str2 is not in dic2:\n",
    "#            add that character as a key to dict2 and set it's value in 1\n",
    "#            otherwise:\n",
    "#                add a 1 to the value assosiated with that character\n",
    "#         if dict1 is equal to dic2:\n",
    "#            return True\n",
    "#          otherwise\n",
    "#              return False\n",
    "\n",
    "\n",
    "\n"
   ]
  },
  {
   "cell_type": "code",
   "execution_count": 4,
   "id": "5b0942ff-adda-436d-99ad-65c92ca3e5a2",
   "metadata": {},
   "outputs": [],
   "source": [
    "def anagram_check(string1, string2):\n",
    "    # Preprocess both strings: remove spaces and convert to lowercase\n",
    "    string1_processed = string1.lower().replace(\" \", \"\")\n",
    "    string2_processed = string2.lower().replace(\" \", \"\")\n",
    "    \n",
    "    # Quick check: if lengths are different, they can't be anagrams\n",
    "    if len(string1_processed) != len(string2_processed):\n",
    "        return False\n",
    "    \n",
    "    # Create character frequency dictionaries for both strings\n",
    "    freq_dict1 = {}\n",
    "    freq_dict2 = {}\n",
    "    \n",
    "    # Count character frequencies in the first string\n",
    "    for char in string1_processed:\n",
    "        if char in freq_dict1:\n",
    "            freq_dict1[char] += 1\n",
    "        else:\n",
    "            freq_dict1[char] = 1\n",
    "    \n",
    "    # Count character frequencies in the second string\n",
    "    for char in string2_processed:\n",
    "        if char in freq_dict2:\n",
    "            freq_dict2[char] += 1\n",
    "        else:\n",
    "            freq_dict2[char] = 1\n",
    "    \n",
    "    # Compare dictionaries\n",
    "    if freq_dict1 == freq_dict2:\n",
    "        return True\n",
    "    else:\n",
    "        return False"
   ]
  },
  {
   "cell_type": "code",
   "execution_count": null,
   "id": "42ff6b74-449b-4779-a1f4-683dc079869f",
   "metadata": {},
   "outputs": [],
   "source": [
    "S"
   ]
  }
 ],
 "metadata": {
  "kernelspec": {
   "display_name": "Python 3 (ipykernel)",
   "language": "python",
   "name": "python3"
  },
  "language_info": {
   "codemirror_mode": {
    "name": "ipython",
    "version": 3
   },
   "file_extension": ".py",
   "mimetype": "text/x-python",
   "name": "python",
   "nbconvert_exporter": "python",
   "pygments_lexer": "ipython3",
   "version": "3.12.3"
  }
 },
 "nbformat": 4,
 "nbformat_minor": 5
}
